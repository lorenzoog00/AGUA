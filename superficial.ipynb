{
 "cells": [
  {
   "cell_type": "code",
   "execution_count": 1,
   "metadata": {},
   "outputs": [],
   "source": [
    "import pandas as pd\n",
    "import matplotlib.pyplot as plt"
   ]
  },
  {
   "cell_type": "code",
   "execution_count": 3,
   "metadata": {},
   "outputs": [],
   "source": [
    "arch_excel = 'Calidad del Agua Superficial a.xlsx'\n",
    "df = pd.read_excel(arch_excel, sheet_name='Calidad de agua superficial')"
   ]
  },
  {
   "cell_type": "code",
   "execution_count": 4,
   "metadata": {},
   "outputs": [
    {
     "data": {
      "text/plain": [
       "Index(['CLAVE', 'SITIO', 'ORGANISMO_DE_CUENCA', 'ESTADO', 'MUNICIPIO',\n",
       "       'CUENCA', 'CUERPO DE AGUA', 'TIPO', 'SUBTIPO', 'LONGITUD', 'LATITUD',\n",
       "       'PERIODO', 'DBO_mg/L', 'CALIDAD_DBO', 'DQO_mg/L', 'CALIDAD_DQO',\n",
       "       'SST_mg/L', 'CALIDAD_SST', 'COLI_FEC_NMP_100mL', 'CALIDAD_COLI_FEC',\n",
       "       'E_COLI_NMP_100mL', 'CALIDAD_E_COLI', 'ENTEROC_NMP_100mL',\n",
       "       'CALIDAD_ENTEROC', 'OD_PORC', 'CALIDAD_OD_PORC', 'OD_PORC_SUP',\n",
       "       'CALIDAD_OD_PORC_SUP', 'OD_PORC_MED', 'CALIDAD_OD_PORC_MED',\n",
       "       'OD_PORC_FON', 'CALIDAD_OD_PORC_FON', 'TOX_D_48_UT', 'CALIDAD_TOX_D_48',\n",
       "       'TOX_V_15_UT', 'CALIDAD_TOX_V_15', 'TOX_D_48_SUP_UT',\n",
       "       'CALIDAD TOX_D_48_SUP', 'TOX_D_48_FON_UT', 'CALIDAD_TOX_D_48_FON',\n",
       "       'TOX_FIS_SUP_15_UT', 'CALIDAD_TOX_FIS_SUP_15', 'TOX_FIS_FON_15_UT',\n",
       "       'CALIDAD_TOX_FIS_FON_15', 'SEMAFORO', 'CONTAMINANTES', 'CUMPLE_CON_DBO',\n",
       "       'CUMPLE_CON_DQO', 'CUMPLE_CON_SST', 'CUMPLE_CON_CF',\n",
       "       'CUMPLE_CON_E_COLI', 'CUMPLE_CON_ENTEROC', 'CUMPLE_CON_OD',\n",
       "       'CUMPLE_CON_TOX', 'GRUPO'],\n",
       "      dtype='object')"
      ]
     },
     "execution_count": 4,
     "metadata": {},
     "output_type": "execute_result"
    }
   ],
   "source": [
    "df.columns"
   ]
  },
  {
   "cell_type": "code",
   "execution_count": 55,
   "metadata": {},
   "outputs": [],
   "source": [
    "semaforo = df['ORGANISMO_DE_CUENCA']"
   ]
  },
  {
   "cell_type": "code",
   "execution_count": 56,
   "metadata": {},
   "outputs": [
    {
     "data": {
      "image/png": "[encoded data removed]",
      "text/plain": [
       "<Figure size 432x288 with 1 Axes>"
      ]
     },
     "metadata": {
      "needs_background": "light"
     },
     "output_type": "display_data"
    }
   ],
   "source": [
    "plt.hist(semaforo, bins=50)  # Puedes ajustar el número de bins según tus necesidades\n",
    "\n",
    "# Agregar etiquetas y título al histograma\n",
    "plt.xlabel('Grado')\n",
    "plt.xticks(rotation=90)\n",
    "plt.ylabel('Número de medidas')\n",
    "plt.title('Zonas')\n",
    "\n",
    "# Mostrar el histograma\n",
    "plt.show()"
   ]
  },
  {
   "cell_type": "code",
   "execution_count": 62,
   "metadata": {},
   "outputs": [
    {
     "data": {
      "text/plain": [
       "ESTADO\n",
       "AGUASCALIENTES                      8\n",
       "BAJA CALIFORNIA SUR                 2\n",
       "BAJA CALIFORNIA2                   11\n",
       "CHIAPAS                            20\n",
       "CHIHUAHUA                           9\n",
       "COAHUILA DE ZARAGOZA                1\n",
       "DISTRITO FEDERAL                    4\n",
       "DURANGO                             3\n",
       "GUANAJUATO                          1\n",
       "GUERRERO                           19\n",
       "HIDALGO                             5\n",
       "JALISCO                            37\n",
       "MEXICO                             16\n",
       "MICHOACAN DE OCAMPO                24\n",
       "MORELOS                             3\n",
       "NAYARIT                             3\n",
       "NUEVO LEON                          1\n",
       "OAXACA                             33\n",
       "PUEBLA                             45\n",
       "QUERETARO                           4\n",
       "SAN LUIS POTOSI                     3\n",
       "SINALOA                             2\n",
       "SONORA                              5\n",
       "TABASCO                             5\n",
       "TAMAULIPAS                          3\n",
       "TLAXCALA                           17\n",
       "VERACRUZ DE IGNACIO DE LA LLAVE    19\n",
       "ZACATECAS                          10\n",
       "dtype: int64"
      ]
     },
     "execution_count": 62,
     "metadata": {},
     "output_type": "execute_result"
    }
   ],
   "source": [
    "conteo_estados = df[df['SEMAFORO'] == 'Rojo'].groupby('ESTADO').size()\n",
    "conteo_estados"
   ]
  },
  {
   "cell_type": "code",
   "execution_count": 59,
   "metadata": {},
   "outputs": [
    {
     "data": {
      "text/plain": [
       "Rojo        313\n",
       "Verde       312\n",
       "Amarillo    163\n",
       "Name: SEMAFORO, dtype: int64"
      ]
     },
     "execution_count": 59,
     "metadata": {},
     "output_type": "execute_result"
    }
   ],
   "source": [
    "conteo_evaluaciones = df['SEMAFORO'].value_counts()\n",
    "conteo_evaluaciones"
   ]
  },
  {
   "cell_type": "code",
   "execution_count": 60,
   "metadata": {},
   "outputs": [
    {
     "data": {
      "text/plain": [
       "PUEBLA                             45\n",
       "JALISCO                            37\n",
       "OAXACA                             33\n",
       "MICHOACAN DE OCAMPO                24\n",
       "CHIAPAS                            20\n",
       "GUERRERO                           19\n",
       "VERACRUZ DE IGNACIO DE LA LLAVE    19\n",
       "TLAXCALA                           17\n",
       "MEXICO                             16\n",
       "BAJA CALIFORNIA2                   11\n",
       "ZACATECAS                          10\n",
       "CHIHUAHUA                           9\n",
       "AGUASCALIENTES                      8\n",
       "SONORA                              5\n",
       "TABASCO                             5\n",
       "HIDALGO                             5\n",
       "DISTRITO FEDERAL                    4\n",
       "QUERETARO                           4\n",
       "SAN LUIS POTOSI                     3\n",
       "MORELOS                             3\n",
       "NAYARIT                             3\n",
       "TAMAULIPAS                          3\n",
       "DURANGO                             3\n",
       "BAJA CALIFORNIA SUR                 2\n",
       "SINALOA                             2\n",
       "GUANAJUATO                          1\n",
       "COAHUILA DE ZARAGOZA                1\n",
       "NUEVO LEON                          1\n",
       "Name: ESTADO, dtype: int64"
      ]
     },
     "execution_count": 60,
     "metadata": {},
     "output_type": "execute_result"
    }
   ],
   "source": [
    "conteo_estados = df[df['SEMAFORO'] == 'Rojo']['ESTADO'].value_counts().fillna(0)\n",
    "conteo_estados"
   ]
  },
  {
   "cell_type": "code",
   "execution_count": 39,
   "metadata": {},
   "outputs": [
    {
     "data": {
      "image/png": "[encoded data removed]",
      "text/plain": [
       "<Figure size 432x288 with 1 Axes>"
      ]
     },
     "metadata": {
      "needs_background": "light"
     },
     "output_type": "display_data"
    }
   ],
   "source": [
    "# Crear el gráfico de barras\n",
    "plt.bar(conteo_estados.index, conteo_estados.values)\n",
    "\n",
    "# Configurar el título y las etiquetas de los ejes\n",
    "plt.title('Cantidad de evaluaciones \"rojo\" por estado')\n",
    "plt.xlabel('Estado')\n",
    "plt.ylabel('Cantidad de evaluaciones \"rojo\"')\n",
    "\n",
    "# Rotar las etiquetas del eje x para mayor legibilidad\n",
    "plt.xticks(rotation=90)\n",
    "\n",
    "# Mostrar el gráfico\n",
    "plt.show()"
   ]
  },
  {
   "attachments": {},
   "cell_type": "markdown",
   "metadata": {},
   "source": [
    "# En Quintana Roo"
   ]
  },
  {
   "cell_type": "code",
   "execution_count": 42,
   "metadata": {},
   "outputs": [],
   "source": [
    "df_quintanaroo = df[df['ESTADO'].str.contains('QUINTANA ROO', case=False)]"
   ]
  },
  {
   "cell_type": "code",
   "execution_count": 49,
   "metadata": {},
   "outputs": [
    {
     "data": {
      "text/plain": [
       "SOLIDARIDAD               11\n",
       "BENITO JUÁREZ             10\n",
       "COZUMEL                   10\n",
       "FELIPE CARRILLO PUERTO     4\n",
       "OTHÓN. P. BLANCO           3\n",
       "TULUM                      3\n",
       "OTHÓN P. BLANCO            2\n",
       "ISLA MUJERES               2\n",
       "OTHON P. BLANCO            1\n",
       "Name: MUNICIPIO, dtype: int64"
      ]
     },
     "execution_count": 49,
     "metadata": {},
     "output_type": "execute_result"
    }
   ],
   "source": [
    "verde_qroo = df_quintanaroo[df_quintanaroo['SEMAFORO'] == 'Verde']['MUNICIPIO'].value_counts()\n",
    "verde_qroo"
   ]
  },
  {
   "attachments": {},
   "cell_type": "markdown",
   "metadata": {},
   "source": [
    "# Peninsula de Yucatan"
   ]
  },
  {
   "cell_type": "code",
   "execution_count": 17,
   "metadata": {},
   "outputs": [],
   "source": [
    "df_peninsula = df[df['ORGANISMO_DE_CUENCA'].str.contains('PENINSULA DE YUCATAN', case=False)]"
   ]
  },
  {
   "cell_type": "code",
   "execution_count": 53,
   "metadata": {},
   "outputs": [
    {
     "data": {
      "text/plain": [
       "QUINTANA ROO    46\n",
       "YUCATAN          2\n",
       "CAMPECHE         1\n",
       "Name: ESTADO, dtype: int64"
      ]
     },
     "execution_count": 53,
     "metadata": {},
     "output_type": "execute_result"
    }
   ],
   "source": [
    "rojos_penins = df_peninsula[df_peninsula['SEMAFORO'] == 'Verde']['ESTADO'].value_counts()\n",
    "rojos_penins"
   ]
  },
  {
   "cell_type": "code",
   "execution_count": 21,
   "metadata": {},
   "outputs": [],
   "source": [
    "semaforo = df_peninsula['CUERPO DE AGUA']"
   ]
  },
  {
   "cell_type": "code",
   "execution_count": 22,
   "metadata": {},
   "outputs": [
    {
     "data": {
      "image/png": "[encoded data removed]",
      "text/plain": [
       "<Figure size 432x288 with 1 Axes>"
      ]
     },
     "metadata": {
      "needs_background": "light"
     },
     "output_type": "display_data"
    }
   ],
   "source": [
    "plt.hist(semaforo, bins=50)  # Puedes ajustar el número de bins según tus necesidades\n",
    "\n",
    "# Agregar etiquetas y título al histograma\n",
    "plt.xlabel('Grado')\n",
    "plt.xticks(rotation=90)\n",
    "plt.ylabel('Frecuencia')\n",
    "plt.title('Etapas del ciclo del agua INICIAL')\n",
    "\n",
    "# Mostrar el histograma\n",
    "plt.show()"
   ]
  },
  {
   "cell_type": "code",
   "execution_count": 26,
   "metadata": {},
   "outputs": [
    {
     "data": {
      "text/plain": [
       "['CAMPECHE',\n",
       " 'OTHÓN. P. BLANCO',\n",
       " 'BENITO JUÁREZ',\n",
       " 'OTHÓN P. BLANCO',\n",
       " 'ISLA MUJERES',\n",
       " 'SOLIDARIDAD',\n",
       " 'TULUM',\n",
       " 'FELIPE CARRILLO PUERTO',\n",
       " 'COZUMEL',\n",
       " 'RÍO LAGARTOS',\n",
       " 'CELESTÚN',\n",
       " 'OTHON P. BLANCO']"
      ]
     },
     "execution_count": 26,
     "metadata": {},
     "output_type": "execute_result"
    }
   ],
   "source": [
    "palabras_unicas = df_peninsula['MUNICIPIO'].unique().tolist()\n",
    "palabras_unicas"
   ]
  },
  {
   "cell_type": "code",
   "execution_count": 28,
   "metadata": {},
   "outputs": [
    {
     "data": {
      "text/html": [
       "<div>\n",
       "<style scoped>\n",
       "    .dataframe tbody tr th:only-of-type {\n",
       "        vertical-align: middle;\n",
       "    }\n",
       "\n",
       "    .dataframe tbody tr th {\n",
       "        vertical-align: top;\n",
       "    }\n",
       "\n",
       "    .dataframe thead th {\n",
       "        text-align: right;\n",
       "    }\n",
       "</style>\n",
       "<table border=\"1\" class=\"dataframe\">\n",
       "  <thead>\n",
       "    <tr style=\"text-align: right;\">\n",
       "      <th></th>\n",
       "      <th>CLAVE</th>\n",
       "      <th>SITIO</th>\n",
       "      <th>ORGANISMO_DE_CUENCA</th>\n",
       "      <th>ESTADO</th>\n",
       "      <th>MUNICIPIO</th>\n",
       "      <th>CUENCA</th>\n",
       "      <th>CUERPO DE AGUA</th>\n",
       "      <th>TIPO</th>\n",
       "      <th>SUBTIPO</th>\n",
       "      <th>LONGITUD</th>\n",
       "      <th>...</th>\n",
       "      <th>CONTAMINANTES</th>\n",
       "      <th>CUMPLE_CON_DBO</th>\n",
       "      <th>CUMPLE_CON_DQO</th>\n",
       "      <th>CUMPLE_CON_SST</th>\n",
       "      <th>CUMPLE_CON_CF</th>\n",
       "      <th>CUMPLE_CON_E_COLI</th>\n",
       "      <th>CUMPLE_CON_ENTEROC</th>\n",
       "      <th>CUMPLE_CON_OD</th>\n",
       "      <th>CUMPLE_CON_TOX</th>\n",
       "      <th>GRUPO</th>\n",
       "    </tr>\n",
       "  </thead>\n",
       "  <tbody>\n",
       "    <tr>\n",
       "      <th>307</th>\n",
       "      <td>DLQUI2202</td>\n",
       "      <td>SIAN KA AN 12</td>\n",
       "      <td>PENINSULA DE YUCATAN</td>\n",
       "      <td>QUINTANA ROO</td>\n",
       "      <td>FELIPE CARRILLO PUERTO</td>\n",
       "      <td>CHUNYAXCHE</td>\n",
       "      <td>CUERPO DE AGUA DEL HUMEDAL</td>\n",
       "      <td>COSTERO (HUMEDAL)</td>\n",
       "      <td>BAHIA</td>\n",
       "      <td>-87.478409</td>\n",
       "      <td>...</td>\n",
       "      <td>NaN</td>\n",
       "      <td>ND</td>\n",
       "      <td>ND</td>\n",
       "      <td>SI</td>\n",
       "      <td>ND</td>\n",
       "      <td>ND</td>\n",
       "      <td>SI</td>\n",
       "      <td>SI</td>\n",
       "      <td>SI</td>\n",
       "      <td>COSTERO</td>\n",
       "    </tr>\n",
       "    <tr>\n",
       "      <th>310</th>\n",
       "      <td>DLQUI2205</td>\n",
       "      <td>SIAN KA AN 10</td>\n",
       "      <td>PENINSULA DE YUCATAN</td>\n",
       "      <td>QUINTANA ROO</td>\n",
       "      <td>FELIPE CARRILLO PUERTO</td>\n",
       "      <td>CHUNYAXCHE</td>\n",
       "      <td>CUERPO DE AGUA DEL HUMEDAL</td>\n",
       "      <td>COSTERO (HUMEDAL)</td>\n",
       "      <td>BAHIA</td>\n",
       "      <td>-87.452197</td>\n",
       "      <td>...</td>\n",
       "      <td>NaN</td>\n",
       "      <td>ND</td>\n",
       "      <td>ND</td>\n",
       "      <td>SI</td>\n",
       "      <td>ND</td>\n",
       "      <td>ND</td>\n",
       "      <td>SI</td>\n",
       "      <td>SI</td>\n",
       "      <td>SI</td>\n",
       "      <td>COSTERO</td>\n",
       "    </tr>\n",
       "    <tr>\n",
       "      <th>311</th>\n",
       "      <td>DLQUI2206</td>\n",
       "      <td>SIAN KA AN 4</td>\n",
       "      <td>PENINSULA DE YUCATAN</td>\n",
       "      <td>QUINTANA ROO</td>\n",
       "      <td>FELIPE CARRILLO PUERTO</td>\n",
       "      <td>CHUNYAXCHE</td>\n",
       "      <td>MAR CARIBE</td>\n",
       "      <td>COSTERO (HUMEDAL)</td>\n",
       "      <td>BAHIA</td>\n",
       "      <td>-87.491138</td>\n",
       "      <td>...</td>\n",
       "      <td>NaN</td>\n",
       "      <td>ND</td>\n",
       "      <td>ND</td>\n",
       "      <td>SI</td>\n",
       "      <td>ND</td>\n",
       "      <td>ND</td>\n",
       "      <td>SI</td>\n",
       "      <td>SI</td>\n",
       "      <td>SI</td>\n",
       "      <td>COSTERO</td>\n",
       "    </tr>\n",
       "    <tr>\n",
       "      <th>313</th>\n",
       "      <td>DLQUI2211</td>\n",
       "      <td>SIAN KA AN 8</td>\n",
       "      <td>PENINSULA DE YUCATAN</td>\n",
       "      <td>QUINTANA ROO</td>\n",
       "      <td>FELIPE CARRILLO PUERTO</td>\n",
       "      <td>CHICHANCANAB (RESTO DE RH 33)</td>\n",
       "      <td>MAR CARIBE</td>\n",
       "      <td>COSTERO (HUMEDAL)</td>\n",
       "      <td>BAHIA</td>\n",
       "      <td>-87.528310</td>\n",
       "      <td>...</td>\n",
       "      <td>NaN</td>\n",
       "      <td>ND</td>\n",
       "      <td>ND</td>\n",
       "      <td>SI</td>\n",
       "      <td>ND</td>\n",
       "      <td>ND</td>\n",
       "      <td>SI</td>\n",
       "      <td>SI</td>\n",
       "      <td>SI</td>\n",
       "      <td>COSTERO</td>\n",
       "    </tr>\n",
       "  </tbody>\n",
       "</table>\n",
       "<p>4 rows × 55 columns</p>\n",
       "</div>"
      ],
      "text/plain": [
       "         CLAVE          SITIO   ORGANISMO_DE_CUENCA        ESTADO  \\\n",
       "307  DLQUI2202  SIAN KA AN 12  PENINSULA DE YUCATAN  QUINTANA ROO   \n",
       "310  DLQUI2205  SIAN KA AN 10  PENINSULA DE YUCATAN  QUINTANA ROO   \n",
       "311  DLQUI2206   SIAN KA AN 4  PENINSULA DE YUCATAN  QUINTANA ROO   \n",
       "313  DLQUI2211   SIAN KA AN 8  PENINSULA DE YUCATAN  QUINTANA ROO   \n",
       "\n",
       "                  MUNICIPIO                         CUENCA  \\\n",
       "307  FELIPE CARRILLO PUERTO                     CHUNYAXCHE   \n",
       "310  FELIPE CARRILLO PUERTO                     CHUNYAXCHE   \n",
       "311  FELIPE CARRILLO PUERTO                     CHUNYAXCHE   \n",
       "313  FELIPE CARRILLO PUERTO  CHICHANCANAB (RESTO DE RH 33)   \n",
       "\n",
       "                 CUERPO DE AGUA               TIPO SUBTIPO   LONGITUD  ...  \\\n",
       "307  CUERPO DE AGUA DEL HUMEDAL  COSTERO (HUMEDAL)   BAHIA -87.478409  ...   \n",
       "310  CUERPO DE AGUA DEL HUMEDAL  COSTERO (HUMEDAL)   BAHIA -87.452197  ...   \n",
       "311                  MAR CARIBE  COSTERO (HUMEDAL)   BAHIA -87.491138  ...   \n",
       "313                  MAR CARIBE  COSTERO (HUMEDAL)   BAHIA -87.528310  ...   \n",
       "\n",
       "     CONTAMINANTES  CUMPLE_CON_DBO CUMPLE_CON_DQO CUMPLE_CON_SST  \\\n",
       "307            NaN              ND             ND             SI   \n",
       "310            NaN              ND             ND             SI   \n",
       "311            NaN              ND             ND             SI   \n",
       "313            NaN              ND             ND             SI   \n",
       "\n",
       "    CUMPLE_CON_CF CUMPLE_CON_E_COLI CUMPLE_CON_ENTEROC CUMPLE_CON_OD  \\\n",
       "307            ND                ND                 SI            SI   \n",
       "310            ND                ND                 SI            SI   \n",
       "311            ND                ND                 SI            SI   \n",
       "313            ND                ND                 SI            SI   \n",
       "\n",
       "    CUMPLE_CON_TOX    GRUPO  \n",
       "307             SI  COSTERO  \n",
       "310             SI  COSTERO  \n",
       "311             SI  COSTERO  \n",
       "313             SI  COSTERO  \n",
       "\n",
       "[4 rows x 55 columns]"
      ]
     },
     "execution_count": 28,
     "metadata": {},
     "output_type": "execute_result"
    }
   ],
   "source": [
    "df_carrillo= df[df['MUNICIPIO'].str.contains('FELIPE CARRILLO PUERTO', case=False)]\n",
    "df_carrillo"
   ]
  },
  {
   "cell_type": "code",
   "execution_count": null,
   "metadata": {},
   "outputs": [],
   "source": []
  }
 ],
 "metadata": {
  "kernelspec": {
   "display_name": "Python 3",
   "language": "python",
   "name": "python3"
  },
  "language_info": {
   "codemirror_mode": {
    "name": "ipython",
    "version": 3
   },
   "file_extension": ".py",
   "mimetype": "text/x-python",
   "name": "python",
   "nbconvert_exporter": "python",
   "pygments_lexer": "ipython3",
   "version": "3.9.5"
  },
  "orig_nbformat": 4
 },
 "nbformat": 4,
 "nbformat_minor": 2
}
